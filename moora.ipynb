{
 "cells": [
  {
   "cell_type": "code",
   "execution_count": 1,
   "metadata": {},
   "outputs": [],
   "source": [
    "import pandas as pd\n",
    "import numpy as np\n",
    "data = {\n",
    "    \"Depo Kapasitesi (lt)\": [23, 10, 9.5],\n",
    "    \"Uçuş süresi (dk)\": [18, 18, 20],\n",
    "    \"Sprey çapı (m)\": [5, 4, 4],\n",
    "    \"Pilsiz ağırlığı (kg)\": [13, 12.1, 9.7],\n",
    "    \"Yıllık bakım (TL)\": [1500, 1000, 1000],\n",
    "    \"Fiyat (TL)\": [116176, 81234, 127000]\n",
    "}\n",
    "\n",
    "df = pd.DataFrame(data, index=[\"DAIA 160 AG\", \"Red Dragonfly\", \"DJI Agros M61-P\"])"
   ]
  },
  {
   "cell_type": "code",
   "execution_count": 2,
   "metadata": {},
   "outputs": [],
   "source": [
    "normalization_matrix = df.apply(lambda x: x / np.sqrt((x ** 2).sum()), axis=0)"
   ]
  },
  {
   "cell_type": "code",
   "execution_count": 3,
   "metadata": {},
   "outputs": [
    {
     "data": {
      "text/html": [
       "<div>\n",
       "<style scoped>\n",
       "    .dataframe tbody tr th:only-of-type {\n",
       "        vertical-align: middle;\n",
       "    }\n",
       "\n",
       "    .dataframe tbody tr th {\n",
       "        vertical-align: top;\n",
       "    }\n",
       "\n",
       "    .dataframe thead th {\n",
       "        text-align: right;\n",
       "    }\n",
       "</style>\n",
       "<table border=\"1\" class=\"dataframe\">\n",
       "  <thead>\n",
       "    <tr style=\"text-align: right;\">\n",
       "      <th></th>\n",
       "      <th>Depo Kapasitesi (lt)</th>\n",
       "      <th>Uçuş süresi (dk)</th>\n",
       "      <th>Sprey çapı (m)</th>\n",
       "      <th>Pilsiz ağırlığı (kg)</th>\n",
       "      <th>Yıllık bakım (TL)</th>\n",
       "      <th>Fiyat (TL)</th>\n",
       "    </tr>\n",
       "  </thead>\n",
       "  <tbody>\n",
       "    <tr>\n",
       "      <th>DAIA 160 AG</th>\n",
       "      <td>0.857606</td>\n",
       "      <td>0.556022</td>\n",
       "      <td>0.662266</td>\n",
       "      <td>0.642416</td>\n",
       "      <td>0.727607</td>\n",
       "      <td>0.610398</td>\n",
       "    </tr>\n",
       "    <tr>\n",
       "      <th>Red Dragonfly</th>\n",
       "      <td>0.372872</td>\n",
       "      <td>0.556022</td>\n",
       "      <td>0.529813</td>\n",
       "      <td>0.597941</td>\n",
       "      <td>0.485071</td>\n",
       "      <td>0.426810</td>\n",
       "    </tr>\n",
       "    <tr>\n",
       "      <th>DJI Agros M61-P</th>\n",
       "      <td>0.354229</td>\n",
       "      <td>0.617802</td>\n",
       "      <td>0.529813</td>\n",
       "      <td>0.479341</td>\n",
       "      <td>0.485071</td>\n",
       "      <td>0.667268</td>\n",
       "    </tr>\n",
       "  </tbody>\n",
       "</table>\n",
       "</div>"
      ],
      "text/plain": [
       "                 Depo Kapasitesi (lt)  Uçuş süresi (dk)  Sprey çapı (m)  \\\n",
       "DAIA 160 AG                  0.857606          0.556022        0.662266   \n",
       "Red Dragonfly                0.372872          0.556022        0.529813   \n",
       "DJI Agros M61-P              0.354229          0.617802        0.529813   \n",
       "\n",
       "                 Pilsiz ağırlığı (kg)  Yıllık bakım (TL)  Fiyat (TL)  \n",
       "DAIA 160 AG                  0.642416           0.727607    0.610398  \n",
       "Red Dragonfly                0.597941           0.485071    0.426810  \n",
       "DJI Agros M61-P              0.479341           0.485071    0.667268  "
      ]
     },
     "execution_count": 3,
     "metadata": {},
     "output_type": "execute_result"
    }
   ],
   "source": [
    "normalization_matrix"
   ]
  },
  {
   "cell_type": "code",
   "execution_count": 4,
   "metadata": {},
   "outputs": [],
   "source": [
    "weights = [0.25, 0.15, 0.15, 0.10, 0.15, 0.20]\n",
    "weighted_normalization_matrix = normalization_matrix * weights"
   ]
  },
  {
   "cell_type": "code",
   "execution_count": 5,
   "metadata": {},
   "outputs": [
    {
     "data": {
      "text/html": [
       "<div>\n",
       "<style scoped>\n",
       "    .dataframe tbody tr th:only-of-type {\n",
       "        vertical-align: middle;\n",
       "    }\n",
       "\n",
       "    .dataframe tbody tr th {\n",
       "        vertical-align: top;\n",
       "    }\n",
       "\n",
       "    .dataframe thead th {\n",
       "        text-align: right;\n",
       "    }\n",
       "</style>\n",
       "<table border=\"1\" class=\"dataframe\">\n",
       "  <thead>\n",
       "    <tr style=\"text-align: right;\">\n",
       "      <th></th>\n",
       "      <th>Depo Kapasitesi (lt)</th>\n",
       "      <th>Uçuş süresi (dk)</th>\n",
       "      <th>Sprey çapı (m)</th>\n",
       "      <th>Pilsiz ağırlığı (kg)</th>\n",
       "      <th>Yıllık bakım (TL)</th>\n",
       "      <th>Fiyat (TL)</th>\n",
       "    </tr>\n",
       "  </thead>\n",
       "  <tbody>\n",
       "    <tr>\n",
       "      <th>DAIA 160 AG</th>\n",
       "      <td>0.214402</td>\n",
       "      <td>0.083403</td>\n",
       "      <td>0.099340</td>\n",
       "      <td>0.064242</td>\n",
       "      <td>0.109141</td>\n",
       "      <td>0.122080</td>\n",
       "    </tr>\n",
       "    <tr>\n",
       "      <th>Red Dragonfly</th>\n",
       "      <td>0.093218</td>\n",
       "      <td>0.083403</td>\n",
       "      <td>0.079472</td>\n",
       "      <td>0.059794</td>\n",
       "      <td>0.072761</td>\n",
       "      <td>0.085362</td>\n",
       "    </tr>\n",
       "    <tr>\n",
       "      <th>DJI Agros M61-P</th>\n",
       "      <td>0.088557</td>\n",
       "      <td>0.092670</td>\n",
       "      <td>0.079472</td>\n",
       "      <td>0.047934</td>\n",
       "      <td>0.072761</td>\n",
       "      <td>0.133454</td>\n",
       "    </tr>\n",
       "  </tbody>\n",
       "</table>\n",
       "</div>"
      ],
      "text/plain": [
       "                 Depo Kapasitesi (lt)  Uçuş süresi (dk)  Sprey çapı (m)  \\\n",
       "DAIA 160 AG                  0.214402          0.083403        0.099340   \n",
       "Red Dragonfly                0.093218          0.083403        0.079472   \n",
       "DJI Agros M61-P              0.088557          0.092670        0.079472   \n",
       "\n",
       "                 Pilsiz ağırlığı (kg)  Yıllık bakım (TL)  Fiyat (TL)  \n",
       "DAIA 160 AG                  0.064242           0.109141    0.122080  \n",
       "Red Dragonfly                0.059794           0.072761    0.085362  \n",
       "DJI Agros M61-P              0.047934           0.072761    0.133454  "
      ]
     },
     "execution_count": 5,
     "metadata": {},
     "output_type": "execute_result"
    }
   ],
   "source": [
    "weighted_normalization_matrix"
   ]
  },
  {
   "cell_type": "code",
   "execution_count": 6,
   "metadata": {},
   "outputs": [
    {
     "data": {
      "text/html": [
       "<div>\n",
       "<style scoped>\n",
       "    .dataframe tbody tr th:only-of-type {\n",
       "        vertical-align: middle;\n",
       "    }\n",
       "\n",
       "    .dataframe tbody tr th {\n",
       "        vertical-align: top;\n",
       "    }\n",
       "\n",
       "    .dataframe thead th {\n",
       "        text-align: right;\n",
       "    }\n",
       "</style>\n",
       "<table border=\"1\" class=\"dataframe\">\n",
       "  <thead>\n",
       "    <tr style=\"text-align: right;\">\n",
       "      <th></th>\n",
       "      <th>Depo Kapasitesi (lt)</th>\n",
       "      <th>Uçuş süresi (dk)</th>\n",
       "      <th>Sprey çapı (m)</th>\n",
       "      <th>Pilsiz ağırlığı (kg)</th>\n",
       "      <th>Yıllık bakım (TL)</th>\n",
       "      <th>Fiyat (TL)</th>\n",
       "      <th>En İyi Değerler</th>\n",
       "    </tr>\n",
       "  </thead>\n",
       "  <tbody>\n",
       "    <tr>\n",
       "      <th>DAIA 160 AG</th>\n",
       "      <td>0.214402</td>\n",
       "      <td>0.083403</td>\n",
       "      <td>0.099340</td>\n",
       "      <td>0.064242</td>\n",
       "      <td>0.109141</td>\n",
       "      <td>0.122080</td>\n",
       "      <td>0.101682</td>\n",
       "    </tr>\n",
       "    <tr>\n",
       "      <th>Red Dragonfly</th>\n",
       "      <td>0.093218</td>\n",
       "      <td>0.083403</td>\n",
       "      <td>0.079472</td>\n",
       "      <td>0.059794</td>\n",
       "      <td>0.072761</td>\n",
       "      <td>0.085362</td>\n",
       "      <td>0.038176</td>\n",
       "    </tr>\n",
       "    <tr>\n",
       "      <th>DJI Agros M61-P</th>\n",
       "      <td>0.088557</td>\n",
       "      <td>0.092670</td>\n",
       "      <td>0.079472</td>\n",
       "      <td>0.047934</td>\n",
       "      <td>0.072761</td>\n",
       "      <td>0.133454</td>\n",
       "      <td>0.006551</td>\n",
       "    </tr>\n",
       "  </tbody>\n",
       "</table>\n",
       "</div>"
      ],
      "text/plain": [
       "                 Depo Kapasitesi (lt)  Uçuş süresi (dk)  Sprey çapı (m)  \\\n",
       "DAIA 160 AG                  0.214402          0.083403        0.099340   \n",
       "Red Dragonfly                0.093218          0.083403        0.079472   \n",
       "DJI Agros M61-P              0.088557          0.092670        0.079472   \n",
       "\n",
       "                 Pilsiz ağırlığı (kg)  Yıllık bakım (TL)  Fiyat (TL)  \\\n",
       "DAIA 160 AG                  0.064242           0.109141    0.122080   \n",
       "Red Dragonfly                0.059794           0.072761    0.085362   \n",
       "DJI Agros M61-P              0.047934           0.072761    0.133454   \n",
       "\n",
       "                 En İyi Değerler  \n",
       "DAIA 160 AG             0.101682  \n",
       "Red Dragonfly           0.038176  \n",
       "DJI Agros M61-P         0.006551  "
      ]
     },
     "execution_count": 6,
     "metadata": {},
     "output_type": "execute_result"
    }
   ],
   "source": [
    "def calculate_expression(row):\n",
    "    return row[\"Depo Kapasitesi (lt)\"] + row[\"Uçuş süresi (dk)\"] + row[\"Sprey çapı (m)\"] - row[\"Pilsiz ağırlığı (kg)\"] - row[\"Yıllık bakım (TL)\"] - row[\"Fiyat (TL)\"]\n",
    "\n",
    "weighted_normalization_matrix['En İyi Değerler'] = weighted_normalization_matrix.apply(calculate_expression, axis=1)\n",
    "weighted_normalization_matrix"
   ]
  },
  {
   "cell_type": "code",
   "execution_count": 7,
   "metadata": {},
   "outputs": [
    {
     "data": {
      "text/plain": [
       "DAIA 160 AG        0.101682\n",
       "Red Dragonfly      0.038176\n",
       "DJI Agros M61-P    0.006551\n",
       "Name: En İyi Değerler, dtype: float64"
      ]
     },
     "execution_count": 7,
     "metadata": {},
     "output_type": "execute_result"
    }
   ],
   "source": [
    "weighted_normalization_matrix[\"En İyi Değerler\"].sort_values(ascending=False)"
   ]
  },
  {
   "cell_type": "code",
   "execution_count": 8,
   "metadata": {},
   "outputs": [],
   "source": [
    "weighted_normalization_matrix.drop(columns=[\"En İyi Değerler\"], inplace=True)"
   ]
  },
  {
   "cell_type": "code",
   "execution_count": 9,
   "metadata": {},
   "outputs": [
    {
     "data": {
      "text/html": [
       "<div>\n",
       "<style scoped>\n",
       "    .dataframe tbody tr th:only-of-type {\n",
       "        vertical-align: middle;\n",
       "    }\n",
       "\n",
       "    .dataframe tbody tr th {\n",
       "        vertical-align: top;\n",
       "    }\n",
       "\n",
       "    .dataframe thead th {\n",
       "        text-align: right;\n",
       "    }\n",
       "</style>\n",
       "<table border=\"1\" class=\"dataframe\">\n",
       "  <thead>\n",
       "    <tr style=\"text-align: right;\">\n",
       "      <th></th>\n",
       "      <th>Depo Kapasitesi (lt)</th>\n",
       "      <th>Uçuş süresi (dk)</th>\n",
       "      <th>Sprey çapı (m)</th>\n",
       "      <th>Pilsiz ağırlığı (kg)</th>\n",
       "      <th>Yıllık bakım (TL)</th>\n",
       "      <th>Fiyat (TL)</th>\n",
       "    </tr>\n",
       "  </thead>\n",
       "  <tbody>\n",
       "    <tr>\n",
       "      <th>DAIA 160 AG</th>\n",
       "      <td>0.214402</td>\n",
       "      <td>0.083403</td>\n",
       "      <td>0.099340</td>\n",
       "      <td>0.064242</td>\n",
       "      <td>0.109141</td>\n",
       "      <td>0.122080</td>\n",
       "    </tr>\n",
       "    <tr>\n",
       "      <th>Red Dragonfly</th>\n",
       "      <td>0.093218</td>\n",
       "      <td>0.083403</td>\n",
       "      <td>0.079472</td>\n",
       "      <td>0.059794</td>\n",
       "      <td>0.072761</td>\n",
       "      <td>0.085362</td>\n",
       "    </tr>\n",
       "    <tr>\n",
       "      <th>DJI Agros M61-P</th>\n",
       "      <td>0.088557</td>\n",
       "      <td>0.092670</td>\n",
       "      <td>0.079472</td>\n",
       "      <td>0.047934</td>\n",
       "      <td>0.072761</td>\n",
       "      <td>0.133454</td>\n",
       "    </tr>\n",
       "  </tbody>\n",
       "</table>\n",
       "</div>"
      ],
      "text/plain": [
       "                 Depo Kapasitesi (lt)  Uçuş süresi (dk)  Sprey çapı (m)  \\\n",
       "DAIA 160 AG                  0.214402          0.083403        0.099340   \n",
       "Red Dragonfly                0.093218          0.083403        0.079472   \n",
       "DJI Agros M61-P              0.088557          0.092670        0.079472   \n",
       "\n",
       "                 Pilsiz ağırlığı (kg)  Yıllık bakım (TL)  Fiyat (TL)  \n",
       "DAIA 160 AG                  0.064242           0.109141    0.122080  \n",
       "Red Dragonfly                0.059794           0.072761    0.085362  \n",
       "DJI Agros M61-P              0.047934           0.072761    0.133454  "
      ]
     },
     "execution_count": 9,
     "metadata": {},
     "output_type": "execute_result"
    }
   ],
   "source": [
    "weighted_normalization_matrix"
   ]
  },
  {
   "cell_type": "code",
   "execution_count": 16,
   "metadata": {},
   "outputs": [
    {
     "name": "stdout",
     "output_type": "stream",
     "text": [
      "Depo Kapasitesi (lt): 0.21440154441000303\n",
      "Uçuş süresi (dk): 0.09267030948228232\n",
      "Sprey çapı (m): 0.09933992677987828\n",
      "Pilsiz ağırlığı (kg): 0.06424160744396211\n",
      "Yıllık bakım (TL): 0.10914103126634983\n",
      "Fiyat (TL): 0.13345368312708014\n"
     ]
    }
   ],
   "source": [
    "print(\"Depo Kapasitesi (lt):\", weighted_normalization_matrix[\"Depo Kapasitesi (lt)\"].max())\n",
    "print(\"Uçuş süresi (dk):\", weighted_normalization_matrix[\"Uçuş süresi (dk)\"].max())\n",
    "print(\"Sprey çapı (m):\", weighted_normalization_matrix[\"Sprey çapı (m)\"].max())\n",
    "print(\"Pilsiz ağırlığı (kg):\", weighted_normalization_matrix[\"Pilsiz ağırlığı (kg)\"].max())\n",
    "print(\"Yıllık bakım (TL):\", weighted_normalization_matrix[\"Yıllık bakım (TL)\"].max())\n",
    "print(\"Fiyat (TL):\", weighted_normalization_matrix[\"Fiyat (TL)\"].max())"
   ]
  }
 ],
 "metadata": {
  "kernelspec": {
   "display_name": "base",
   "language": "python",
   "name": "python3"
  },
  "language_info": {
   "codemirror_mode": {
    "name": "ipython",
    "version": 3
   },
   "file_extension": ".py",
   "mimetype": "text/x-python",
   "name": "python",
   "nbconvert_exporter": "python",
   "pygments_lexer": "ipython3",
   "version": "3.11.5"
  }
 },
 "nbformat": 4,
 "nbformat_minor": 2
}
